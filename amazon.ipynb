{
 "cells": [
  {
   "cell_type": "code",
   "execution_count": 2,
   "metadata": {},
   "outputs": [],
   "source": [
    "import json\n",
    "import csv"
   ]
  },
  {
   "cell_type": "code",
   "execution_count": 3,
   "metadata": {},
   "outputs": [],
   "source": [
    "with open (\"C:/Users/PRAVEENA/Downloads/amazon.csv\", \"r\") as f:\n",
    "    reader = csv.reader(f)\n",
    "    next(reader)\n",
    "    data = []\n",
    "    for row in reader:\n",
    "        data.append({\"Job title\": row[0], \"Location\": row[1], \"Job summary\": row[2]})\n",
    "        \n",
    "with open (\"file2.json\", \"w\") as f:\n",
    "    json.dump(data, f, indent=4)"
   ]
  }
 ],
 "metadata": {
  "kernelspec": {
   "display_name": "Python 3.9.12 ('base')",
   "language": "python",
   "name": "python3"
  },
  "language_info": {
   "codemirror_mode": {
    "name": "ipython",
    "version": 3
   },
   "file_extension": ".py",
   "mimetype": "text/x-python",
   "name": "python",
   "nbconvert_exporter": "python",
   "pygments_lexer": "ipython3",
   "version": "3.9.12"
  },
  "orig_nbformat": 4,
  "vscode": {
   "interpreter": {
    "hash": "46382b06e421f2cc071ffa52fffc2acc34cd6eb36bbbfd7f186bb557a5fcbf25"
   }
  }
 },
 "nbformat": 4,
 "nbformat_minor": 2
}
